{
 "cells": [
  {
   "cell_type": "code",
   "execution_count": 1,
   "id": "a5a48a6d",
   "metadata": {},
   "outputs": [],
   "source": [
    "import nltk\n",
    "from collections import defaultdict\n",
    "from nltk.tokenize import sent_tokenize, word_tokenize"
   ]
  },
  {
   "cell_type": "code",
   "execution_count": 2,
   "id": "82b3eeae",
   "metadata": {},
   "outputs": [
    {
     "name": "stderr",
     "output_type": "stream",
     "text": [
      "[nltk_data] Downloading package wordnet to\n",
      "[nltk_data]     C:\\Users\\sharm\\AppData\\Roaming\\nltk_data...\n",
      "[nltk_data]   Package wordnet is already up-to-date!\n"
     ]
    },
    {
     "data": {
      "text/plain": [
       "True"
      ]
     },
     "execution_count": 2,
     "metadata": {},
     "output_type": "execute_result"
    }
   ],
   "source": [
    "import nltk\n",
    "nltk.download('wordnet')"
   ]
  },
  {
   "cell_type": "code",
   "execution_count": 57,
   "id": "9dcc7d6a",
   "metadata": {},
   "outputs": [
    {
     "name": "stdout",
     "output_type": "stream",
     "text": [
      "ass2ir\\*.txt\n"
     ]
    }
   ],
   "source": [
    "import os\n",
    "\n",
    "file_location = os.path.join('ass2ir', '*.txt')\n",
    "print(file_location)"
   ]
  },
  {
   "cell_type": "code",
   "execution_count": 58,
   "id": "363f438b",
   "metadata": {},
   "outputs": [
    {
     "name": "stdout",
     "output_type": "stream",
     "text": [
      "['ass2ir\\\\doc1.txt', 'ass2ir\\\\doc2.txt', 'ass2ir\\\\doc3.txt', 'ass2ir\\\\doc4.txt', 'ass2ir\\\\doc5.txt', 'ass2ir\\\\doc6.txt', 'ass2ir\\\\doc7.txt', 'ass2ir\\\\doc8.txt', 'ass2ir\\\\doc9.txt', 'ass2ir\\\\doc99.txt']\n"
     ]
    }
   ],
   "source": [
    "import glob\n",
    "filenames = glob.glob(file_location)\n",
    "print(filenames)"
   ]
  },
  {
   "cell_type": "code",
   "execution_count": 59,
   "id": "f1bf4819",
   "metadata": {},
   "outputs": [],
   "source": [
    "corpusfin=[]\n",
    "for f in filenames:\n",
    "    file = open(f,\"r\",encoding='utf-8' ,errors='ignore')\n",
    "    line = file.read().replace(\"\\n\", \" \")\n",
    "    corpusfin.append(line)\n",
    "    file.close()"
   ]
  },
  {
   "cell_type": "code",
   "execution_count": 62,
   "id": "7ac8db1c",
   "metadata": {},
   "outputs": [
    {
     "name": "stdout",
     "output_type": "stream",
     "text": [
      "10\n",
      "['On one fine sunny day, Akbar and Birbal were taking a leisurely walk in the palace gardens. Suddenly, Akbar thought of testing Birbal’s wits by asking him a tricky question. Emperor asked Birbal, “How many crows are there in our kingdom?” Birbal could sense the amusement in the king’s voice, and within a few minutes Birbal replied, “My king, there are eighty thousand nine hundred and seventy-one crows in our kingdom”. ', 'Surprised and amazed, Akbar further tested Birbal, “What if we have more crows?” Birbal replied, “Oh, then the crows from the other kingdoms must be visiting us’’. “ What if there are lesser crows?” asked Akbar. “Well, then some of our crows must be visiting other kingdoms”, replied Birbal with a grin on his face. Akbar smiled at Birbal’s great sense of humour and wit.', 'Once on a cold winter day, Akbar and Birbal were walking by a lake. Akbar stopped and put his finger into the freezing water and immediately took it out saying, “I don’t think anyone can sustain a night in this cold water”. Birbal took that as a challenge and said that he would find someone who can do it. Akbar promised a sum of 1000 gold coins to whoever could spend a night standing in the cold water of the lake.', ' Soon, Birbal found a poor man who agreed to undertake the challenge for the 1000 gold coins. Guarded by two royal guards, the poor man spent the entire night standing in the freezing water. In the morning, the poor man was taken to court for the reward.', 'Once upon a time, a rich merchant was robbed in King Akbar’s kingdom. The grief-stricken merchant went to the court and asked for help. Akbar asked Birbal to help the merchant find the robber. The merchant told Birbal that he was suspicious of one of his servants. On getting the hint from the merchant, Birbal summoned all the servants and told them to stand in a straight line. When asked about the robbery, everyone denied doing it, as expected.', 'Everyone started looking at each other, and one of the courtiers started touching his beard to find the straw. Birbal called the guards and asked them to search the suspect. On searching the suspect, the ring was retrieved. Akbar was amazed at how Birbal managed to find the ring. ', 'Once upon a time, a clever man sold his well to a farmer. The next day, when the farmer went to the well to fetch some water, the man said that he only sold the well and not its water. The farmer did not know what to do, and with a sad heart, he went to Akbar’s court. Birbal was told to take care of the case. The following day, the man who sold the well along with the farmer was called to the court. ', 'The clever man made the same statement – he had sold his well, not the water in it. On learning this, Birbal said, “My friend, in that case, you either remove your water from the well or pay tax for your water because it is the farmer’s well.” The man realised his mistake and asked for forgiveness as he felt helpless and outwitted.', 'Once upon a time, king Akbar got so mad at Birbal that he told Birbal to leave the kingdom and go away. Heartbroken, Birbal left the kingdom and took refuge at a farmer’s house in a nearby village. Birbal spent his days working at the farm. As time passed, King Akbar started missing his favourite courtier. One day, Akbar decided to send across his royal guards to find Birbal. The guards looked for Birbal in all directions, but all their efforts went to waste.', 'The villagers held a meeting to decide how to solve the king’s mystery. Birbal offered to help, stating that he needs a month’s time. Birbal took a pot and put a small watermelon in it without cutting it from its vines. After a month, the watermelon grew up to the size of the pot. This pot was sent to the King, and he was told that the wit should only be removed without breaking the pot. Akbar knew that this could be no one else but Birbal, and he went to bring Birbal back to his court.']\n"
     ]
    }
   ],
   "source": [
    "print(len(corpusfin))\n",
    "print(corpusfin)"
   ]
  },
  {
   "cell_type": "code",
   "execution_count": 63,
   "id": "53705016",
   "metadata": {},
   "outputs": [
    {
     "data": {
      "text/plain": [
       "10"
      ]
     },
     "execution_count": 63,
     "metadata": {},
     "output_type": "execute_result"
    }
   ],
   "source": [
    "from nltk.tokenize import RegexpTokenizer\n",
    "corpus_words = []\n",
    "tokenizer = RegexpTokenizer(r'\\w+')\n",
    "# Tokenize a paragraph into sentences and each sentence in to\n",
    "# words\n",
    "\n",
    "for c in corpusfin:\n",
    "    corpus_word = []\n",
    "    word_tokens = tokenizer.tokenize(c)\n",
    "    corpus_word += word_tokens\n",
    "    corpus_words.append(corpus_word)\n",
    "len(corpus_words)\n",
    "#prints the length of corpus words"
   ]
  },
  {
   "cell_type": "code",
   "execution_count": 64,
   "id": "5f656789",
   "metadata": {},
   "outputs": [
    {
     "name": "stdout",
     "output_type": "stream",
     "text": [
      "['Surprised', 'and', 'amazed', 'Akbar', 'further', 'tested', 'Birbal', 'What', 'if', 'we', 'have', 'more', 'crows', 'Birbal', 'replied', 'Oh', 'then', 'the', 'crows', 'from', 'the', 'other', 'kingdoms', 'must', 'be', 'visiting', 'us', 'What', 'if', 'there', 'are', 'lesser', 'crows', 'asked', 'Akbar', 'Well', 'then', 'some', 'of', 'our', 'crows', 'must', 'be', 'visiting', 'other', 'kingdoms', 'replied', 'Birbal', 'with', 'a', 'grin', 'on', 'his', 'face', 'Akbar', 'smiled', 'at', 'Birbal', 's', 'great', 'sense', 'of', 'humour', 'and', 'wit']\n"
     ]
    }
   ],
   "source": [
    "print(corpus_words[1])"
   ]
  },
  {
   "cell_type": "code",
   "execution_count": 65,
   "id": "1dde43da",
   "metadata": {},
   "outputs": [
    {
     "data": {
      "text/plain": [
       "10"
      ]
     },
     "execution_count": 65,
     "metadata": {},
     "output_type": "execute_result"
    }
   ],
   "source": [
    "lower_corpus_words = []\n",
    "for corpus_word in corpus_words:\n",
    "    lower_corpus_word = set([x.lower() for x in corpus_word])\n",
    "    lower_corpus_words.append(lower_corpus_word)\n",
    "len(lower_corpus_words)\n",
    "#converts corpus wods into lower case\n"
   ]
  },
  {
   "cell_type": "code",
   "execution_count": 66,
   "id": "594a787c",
   "metadata": {},
   "outputs": [
    {
     "name": "stdout",
     "output_type": "stream",
     "text": [
      "{'amazed', 'of', 'with', 'and', 'great', 'his', 'lesser', 'if', 'we', 'well', 'some', 'then', 'replied', 'tested', 'our', 'face', 'have', 'other', 'what', 'the', 'smiled', 'further', 'kingdoms', 'must', 'us', 'humour', 'surprised', 'a', 'be', 's', 'crows', 'sense', 'are', 'visiting', 'on', 'asked', 'wit', 'akbar', 'grin', 'more', 'there', 'at', 'from', 'oh', 'birbal'}\n"
     ]
    }
   ],
   "source": [
    "print(lower_corpus_words[1])"
   ]
  },
  {
   "cell_type": "code",
   "execution_count": 67,
   "id": "7a73aaf5",
   "metadata": {},
   "outputs": [
    {
     "data": {
      "text/plain": [
       "10"
      ]
     },
     "execution_count": 67,
     "metadata": {},
     "output_type": "execute_result"
    }
   ],
   "source": [
    "from nltk.corpus import stopwords\n",
    "stwords = set(stopwords.words('english'))\n",
    "stopfree_words = []\n",
    "\n",
    "for lower_corpus_word in lower_corpus_words:\n",
    "    stopfree_word = lower_corpus_word - stwords\n",
    "    stopfree_words.append(stopfree_word)\n",
    "len(stopfree_words)"
   ]
  },
  {
   "cell_type": "code",
   "execution_count": 68,
   "id": "59a9a08e",
   "metadata": {},
   "outputs": [
    {
     "name": "stdout",
     "output_type": "stream",
     "text": [
      "{'amazed', 'great', 'lesser', 'well', 'replied', 'tested', 'face', 'smiled', 'must', 'kingdoms', 'humour', 'us', 'surprised', 'crows', 'visiting', 'asked', 'wit', 'akbar', 'grin', 'oh', 'birbal', 'sense'}\n"
     ]
    }
   ],
   "source": [
    "print(stopfree_words[1])"
   ]
  },
  {
   "cell_type": "code",
   "execution_count": 69,
   "id": "a551cb2e",
   "metadata": {},
   "outputs": [
    {
     "data": {
      "text/plain": [
       "10"
      ]
     },
     "execution_count": 69,
     "metadata": {},
     "output_type": "execute_result"
    }
   ],
   "source": [
    "#imports WordNetLemmatizer package to lemmatize stopfree_words and save it in list lemm_words\n",
    "from nltk.stem import WordNetLemmatizer\n",
    "  \n",
    "lemmatizer = WordNetLemmatizer()\n",
    "lemm_words = []\n",
    "for stopfree_word in stopfree_words:\n",
    "    lemm_word = set([lemmatizer.lemmatize(x) for x in stopfree_word])\n",
    "    lemm_words.append(lemm_word)\n",
    "len(lemm_words)\n",
    "#gives length of lemm_words"
   ]
  },
  {
   "cell_type": "code",
   "execution_count": 70,
   "id": "440b15ab",
   "metadata": {},
   "outputs": [
    {
     "name": "stdout",
     "output_type": "stream",
     "text": [
      "[{'could', 'tricky', 'amusement', 'garden', 'question', 'eighty', 'walk', 'suddenly', 'replied', 'hundred', 'kingdom', 'crow', 'nine', 'testing', 'minute', 'thousand', 'leisurely', 'many', 'asking', 'thought', 'king', 'within', 'sense', 'taking', 'palace', 'one', 'sunny', 'asked', 'wit', 'akbar', 'fine', 'emperor', 'voice', 'seventy', 'day', 'birbal'}, {'amazed', 'great', 'lesser', 'well', 'replied', 'tested', 'kingdom', 'face', 'crow', 'smiled', 'must', 'humour', 'surprised', 'sense', 'visiting', 'asked', 'wit', 'akbar', 'grin', 'u', 'oh', 'birbal'}, {'could', 'spend', 'stopped', 'challenge', 'night', 'took', 'promised', 'sustain', 'lake', 'whoever', 'saying', 'immediately', 'winter', 'anyone', 'finger', 'someone', 'find', 'standing', 'think', 'walking', 'freezing', 'said', 'would', 'akbar', 'gold', 'sum', 'put', 'cold', 'coin', 'water', 'day', '1000', 'birbal'}, {'two', 'reward', 'guard', 'soon', 'agreed', 'challenge', 'night', 'court', 'entire', 'man', 'guarded', 'standing', 'freezing', 'morning', 'undertake', 'found', 'royal', 'gold', 'spent', 'coin', 'poor', 'taken', 'water', '1000', 'birbal'}, {'time', 'merchant', 'court', 'straight', 'robber', 'denied', 'stricken', 'getting', 'robbery', 'kingdom', 'expected', 'find', 'everyone', 'line', 'help', 'summoned', 'upon', 'king', 'grief', 'hint', 'one', 'asked', 'akbar', 'robbed', 'told', 'suspicious', 'servant', 'rich', 'went', 'stand', 'birbal'}, {'amazed', 'straw', 'guard', 'called', 'touching', 'ring', 'search', 'beard', 'managed', 'everyone', 'find', 'retrieved', 'suspect', 'one', 'asked', 'akbar', 'searching', 'courtier', 'looking', 'started', 'birbal'}, {'time', 'know', 'care', 'called', 'court', 'well', 'man', 'clever', 'along', 'upon', 'heart', 'fetch', 'said', 'take', 'case', 'akbar', 'told', 'farmer', 'sold', 'next', 'went', 'water', 'day', 'following', 'sad', 'birbal'}, {'felt', 'tax', 'learning', 'pay', 'helpless', 'mistake', 'realised', 'well', 'made', 'man', 'outwitted', 'clever', 'either', 'remove', 'friend', 'statement', 'said', 'case', 'asked', 'farmer', 'sold', 'forgiveness', 'water', 'birbal'}, {'guard', 'time', 'across', 'looked', 'house', 'nearby', 'left', 'took', 'decided', 'village', 'passed', 'kingdom', 'farm', 'find', 'refuge', 'go', 'got', 'direction', 'upon', 'king', 'heartbroken', 'working', 'one', 'mad', 'send', 'royal', 'akbar', 'told', 'away', 'farmer', 'waste', 'leave', 'spent', 'favourite', 'courtier', 'missing', 'effort', 'went', 'started', 'day', 'birbal'}, {'breaking', 'could', 'small', 'time', 'solve', 'pot', 'sent', 'back', 'mystery', 'bring', 'took', 'without', 'court', 'decide', 'villager', 'knew', 'vine', 'stating', 'removed', 'meeting', 'offered', 'help', 'king', 'need', 'cutting', 'held', 'grew', 'one', 'else', 'wit', 'akbar', 'told', 'watermelon', 'month', 'put', 'went', 'size', 'birbal'}]\n"
     ]
    }
   ],
   "source": [
    "print(lemm_words)"
   ]
  },
  {
   "cell_type": "code",
   "execution_count": 71,
   "id": "749c12ec",
   "metadata": {},
   "outputs": [],
   "source": [
    "def positional_index(tokens):#function to find positional index\n",
    "    d = defaultdict(lambda:[])\n",
    "    for docID, sub_l in enumerate(tokens):\n",
    "        for t in set(sub_l):\n",
    "            count=0;\n",
    "            for ind, ele in enumerate(sub_l):\n",
    "                if ele == t:\n",
    "                    count+=1 \n",
    "            d[t].append([docID] + [count])\n",
    "    return d\n"
   ]
  },
  {
   "cell_type": "code",
   "execution_count": 72,
   "id": "df4ac69d",
   "metadata": {},
   "outputs": [
    {
     "name": "stdout",
     "output_type": "stream",
     "text": [
      "defaultdict(<function positional_index.<locals>.<lambda> at 0x00000155AE2B1F70>, {'could': [[0, 1], [2, 1], [9, 1]], 'of': [[0, 1], [1, 2], [2, 2], [4, 2], [5, 1], [6, 1], [9, 1]], 'were': [[0, 1], [2, 1]], 'and': [[0, 3], [1, 2], [2, 4], [4, 2], [5, 2], [6, 2], [7, 2], [8, 2], [9, 3]], 'Suddenly': [[0, 1]], 'tricky': [[0, 1]], 'amusement': [[0, 1]], 'minutes': [[0, 1]], 'Birbal': [[0, 5], [1, 4], [2, 2], [3, 1], [4, 3], [5, 2], [6, 1], [7, 1], [8, 6], [9, 4]], 'him': [[0, 1]], 'question': [[0, 1]], 'eighty': [[0, 1]], 'walk': [[0, 1]], 'On': [[0, 1], [4, 1], [5, 1], [7, 1]], 'in': [[0, 4], [2, 2], [3, 1], [4, 2], [7, 2], [8, 2], [9, 1]], 'How': [[0, 1]], 'our': [[0, 2], [1, 1]], 'replied': [[0, 1], [1, 2]], 'kingdom': [[0, 2], [4, 1], [8, 2]], 'hundred': [[0, 1]], 'nine': [[0, 1]], 'testing': [[0, 1]], 'the': [[0, 3], [1, 2], [2, 3], [3, 8], [4, 7], [5, 7], [6, 9], [7, 4], [8, 3], [9, 7]], 'thousand': [[0, 1]], 'Akbar': [[0, 2], [1, 3], [2, 3], [4, 2], [5, 1], [6, 1], [8, 3], [9, 1]], 'leisurely': [[0, 1]], 'many': [[0, 1]], 'asking': [[0, 1]], 'thought': [[0, 1]], 'king': [[0, 2], [8, 1], [9, 1]], 'a': [[0, 3], [1, 1], [2, 6], [3, 1], [4, 3], [6, 4], [8, 3], [9, 5]], 's': [[0, 2], [1, 1], [4, 1], [6, 1], [7, 1], [8, 1], [9, 2]], 'within': [[0, 1]], 'crows': [[0, 2], [1, 4]], 'are': [[0, 2], [1, 1]], 'taking': [[0, 1]], 'palace': [[0, 1]], 'one': [[0, 2], [4, 1], [5, 1], [9, 1]], 'sunny': [[0, 1]], 'asked': [[0, 1], [1, 1], [4, 3], [5, 1], [7, 1]], 'fine': [[0, 1]], 'wits': [[0, 1]], 'there': [[0, 2], [1, 1]], 'gardens': [[0, 1]], 'voice': [[0, 1]], 'seventy': [[0, 1]], 'My': [[0, 1], [7, 1]], 'day': [[0, 1], [2, 1], [6, 2], [8, 1]], 'Emperor': [[0, 1]], 'few': [[0, 1]], 'by': [[0, 1], [2, 1], [3, 1]], 'sense': [[0, 1], [1, 1]], 'amazed': [[1, 1], [5, 1]], 'Surprised': [[1, 1]], 'with': [[1, 1], [6, 2]], 'great': [[1, 1]], 'his': [[1, 1], [2, 1], [4, 1], [5, 1], [6, 1], [7, 2], [8, 3], [9, 1]], 'lesser': [[1, 1]], 'if': [[1, 2]], 'we': [[1, 1]], 'some': [[1, 1], [6, 1]], 'then': [[1, 2]], 'tested': [[1, 1]], 'face': [[1, 1]], 'have': [[1, 1]], 'other': [[1, 2], [5, 1]], 'smiled': [[1, 1]], 'further': [[1, 1]], 'kingdoms': [[1, 2]], 'must': [[1, 2]], 'us': [[1, 1]], 'humour': [[1, 1]], 'be': [[1, 2], [9, 2]], 'visiting': [[1, 2]], 'on': [[1, 1], [2, 1]], 'wit': [[1, 1], [9, 1]], 'Oh': [[1, 1]], 'grin': [[1, 1]], 'more': [[1, 1]], 'at': [[1, 1], [5, 2], [8, 3]], 'from': [[1, 1], [4, 1], [7, 1], [9, 1]], 'Well': [[1, 1]], 'What': [[1, 2]], 'spend': [[2, 1]], 'this': [[2, 1], [7, 1], [9, 1]], 'coins': [[2, 1], [3, 1]], 'stopped': [[2, 1]], 'challenge': [[2, 1], [3, 1]], 'night': [[2, 2], [3, 1]], 'into': [[2, 1]], 'took': [[2, 2], [8, 1], [9, 1]], 'sustain': [[2, 1]], 'promised': [[2, 1]], 'lake': [[2, 2]], 'whoever': [[2, 1]], 'saying': [[2, 1]], 'immediately': [[2, 1]], 'winter': [[2, 1]], 'anyone': [[2, 1]], 'finger': [[2, 1]], 'Once': [[2, 1], [4, 1], [6, 1], [8, 1]], 'don': [[2, 1]], 'find': [[2, 1], [4, 1], [5, 2], [8, 1]], 'someone': [[2, 1]], 'who': [[2, 1], [3, 1], [6, 1]], 'to': [[2, 1], [3, 2], [4, 3], [5, 3], [6, 7], [8, 4], [9, 7]], 'standing': [[2, 1], [3, 1]], 'think': [[2, 1]], 'I': [[2, 1]], 'walking': [[2, 1]], 'freezing': [[2, 1], [3, 1]], 'as': [[2, 1], [4, 1], [7, 1]], 'said': [[2, 1], [6, 1], [7, 1]], 'would': [[2, 1]], 'can': [[2, 2]], 'he': [[2, 1], [4, 1], [6, 2], [7, 2], [8, 1], [9, 3]], 't': [[2, 1]], 'gold': [[2, 1], [3, 1]], 'sum': [[2, 1]], 'put': [[2, 1], [9, 1]], 'cold': [[2, 3]], 'do': [[2, 1], [6, 1]], 'it': [[2, 2], [4, 1], [7, 2], [9, 2]], 'that': [[2, 2], [4, 1], [6, 1], [7, 1], [8, 1], [9, 3]], 'water': [[2, 3], [3, 1], [6, 2], [7, 3]], 'out': [[2, 1]], '1000': [[2, 1], [3, 1]], 'two': [[3, 1]], 'reward': [[3, 1]], 'Guarded': [[3, 1]], 'agreed': [[3, 1]], 'court': [[3, 1], [4, 1], [6, 2], [9, 1]], 'for': [[3, 2], [4, 1], [7, 2], [8, 1]], 'entire': [[3, 1]], 'man': [[3, 3], [6, 3], [7, 2]], 'morning': [[3, 1]], 'undertake': [[3, 1]], 'guards': [[3, 1], [5, 1], [8, 2]], 'found': [[3, 1]], 'royal': [[3, 1], [8, 1]], 'spent': [[3, 1], [8, 1]], 'was': [[3, 1], [4, 2], [5, 2], [6, 2], [9, 2]], 'poor': [[3, 3]], 'taken': [[3, 1]], 'In': [[3, 1]], 'Soon': [[3, 1]], 'King': [[4, 1], [8, 1], [9, 1]], 'time': [[4, 1], [6, 1], [8, 2], [9, 1]], 'all': [[4, 1], [8, 2]], 'merchant': [[4, 5]], 'them': [[4, 1], [5, 1]], 'straight': [[4, 1]], 'robber': [[4, 1]], 'denied': [[4, 1]], 'stricken': [[4, 1]], 'getting': [[4, 1]], 'doing': [[4, 1]], 'robbery': [[4, 1]], 'expected': [[4, 1]], 'everyone': [[4, 1]], 'line': [[4, 1]], 'help': [[4, 2], [9, 1]], 'summoned': [[4, 1]], 'upon': [[4, 1], [6, 1], [8, 1]], 'grief': [[4, 1]], 'hint': [[4, 1]], 'servants': [[4, 2]], 'The': [[4, 2], [6, 3], [7, 2], [8, 1], [9, 1]], 'about': [[4, 1]], 'robbed': [[4, 1]], 'told': [[4, 2], [6, 1], [8, 1], [9, 1]], 'suspicious': [[4, 1]], 'When': [[4, 1]], 'rich': [[4, 1]], 'went': [[4, 1], [6, 2], [8, 1], [9, 1]], 'stand': [[4, 1]], 'each': [[5, 1]], 'straw': [[5, 1]], 'called': [[5, 1], [6, 1]], 'touching': [[5, 1]], 'Everyone': [[5, 1]], 'ring': [[5, 2]], 'search': [[5, 1]], 'courtiers': [[5, 1]], 'beard': [[5, 1]], 'managed': [[5, 1]], 'retrieved': [[5, 1]], 'suspect': [[5, 2]], 'how': [[5, 1], [9, 1]], 'searching': [[5, 1]], 'looking': [[5, 1]], 'started': [[5, 2], [8, 1]], 'following': [[6, 1]], 'not': [[6, 2], [7, 1]], 'know': [[6, 1]], 'did': [[6, 1]], 'care': [[6, 1]], 'its': [[6, 1], [9, 1]], 'well': [[6, 4], [7, 3]], 'clever': [[6, 1], [7, 1]], 'only': [[6, 1], [9, 1]], 'what': [[6, 1]], 'along': [[6, 1]], 'heart': [[6, 1]], 'fetch': [[6, 1]], 'take': [[6, 1]], 'case': [[6, 1], [7, 1]], 'farmer': [[6, 4], [7, 1], [8, 1]], 'sold': [[6, 3], [7, 1]], 'next': [[6, 1]], 'when': [[6, 1]], 'sad': [[6, 1]], 'felt': [[7, 1]], 'tax': [[7, 1]], 'learning': [[7, 1]], 'pay': [[7, 1]], 'helpless': [[7, 1]], 'mistake': [[7, 1]], 'realised': [[7, 1]], 'made': [[7, 1]], 'is': [[7, 1]], 'outwitted': [[7, 1]], 'either': [[7, 1]], 'remove': [[7, 1]], 'friend': [[7, 1]], 'same': [[7, 1]], 'statement': [[7, 1]], 'had': [[7, 1]], 'your': [[7, 2]], 'you': [[7, 1]], 'because': [[7, 1]], 'or': [[7, 1]], 'forgiveness': [[7, 1]], 'across': [[8, 1]], 'looked': [[8, 1]], 'house': [[8, 1]], 'left': [[8, 1]], 'nearby': [[8, 1]], 'days': [[8, 1]], 'their': [[8, 1]], 'decided': [[8, 1]], 'village': [[8, 1]], 'passed': [[8, 1]], 'farm': [[8, 1]], 'efforts': [[8, 1]], 'Heartbroken': [[8, 1]], 'refuge': [[8, 1]], 'go': [[8, 1]], 'got': [[8, 1]], 'so': [[8, 1]], 'directions': [[8, 1]], 'working': [[8, 1]], 'mad': [[8, 1]], 'send': [[8, 1]], 'away': [[8, 1]], 'leave': [[8, 1]], 'favourite': [[8, 1]], 'waste': [[8, 1]], 'courtier': [[8, 1]], 'As': [[8, 1]], 'missing': [[8, 1]], 'One': [[8, 1]], 'but': [[8, 1], [9, 1]], 'breaking': [[9, 1]], 'small': [[9, 1]], 'solve': [[9, 1]], 'villagers': [[9, 1]], 'pot': [[9, 4]], 'sent': [[9, 1]], 'back': [[9, 1]], 'mystery': [[9, 1]], 'bring': [[9, 1]], 'without': [[9, 2]], 'decide': [[9, 1]], 'knew': [[9, 1]], 'no': [[9, 1]], 'stating': [[9, 1]], 'This': [[9, 1]], 'removed': [[9, 1]], 'up': [[9, 1]], 'meeting': [[9, 1]], 'offered': [[9, 1]], 'needs': [[9, 1]], 'After': [[9, 1]], 'should': [[9, 1]], 'cutting': [[9, 1]], 'held': [[9, 1]], 'grew': [[9, 1]], 'else': [[9, 1]], 'watermelon': [[9, 2]], 'month': [[9, 2]], 'size': [[9, 1]], 'vines': [[9, 1]]})\n"
     ]
    }
   ],
   "source": [
    "index1=  positional_index(corpus_words)\n",
    "print(index1)\n",
    "#prints positional index dict\n"
   ]
  },
  {
   "cell_type": "code",
   "execution_count": 73,
   "id": "867172cd",
   "metadata": {},
   "outputs": [],
   "source": [
    "import math\n",
    "\n",
    "#function to get one document and word frequency in that only\n",
    "def getfreq(x):\n",
    "    docwords=[]\n",
    "    for i, j in zip(index1.values(), index1.keys()):\n",
    "        for ele in i:\n",
    "            if(ele[0]==x):\n",
    "                terms=[]\n",
    "                terms.append(j)\n",
    "                terms.append(ele[1])\n",
    "                docwords.append(terms)\n",
    "    return docwords\n",
    "\n",
    "\n",
    "def get_weight(term_freq):#function to find tf weight\n",
    "    mag=0\n",
    "    for term in term_freq:\n",
    "        term[1]= 1+math.log(term[1],10)\n",
    "\n",
    "    return term_freq\n",
    "\n",
    "def get_normalweight(term_freq):#cosine normalization functon for documents\n",
    "    mag=0\n",
    "    for term in term_freq:\n",
    "        mag=mag+(term[1]**2)\n",
    "    mag=mag**0.5\n",
    "    for term in term_freq:\n",
    "        term[1]= term[1]/mag\n",
    "    \n",
    "    return term_freq\n",
    "\n"
   ]
  },
  {
   "cell_type": "code",
   "execution_count": 74,
   "id": "4aa3942b",
   "metadata": {},
   "outputs": [
    {
     "name": "stdout",
     "output_type": "stream",
     "text": [
      "Enter your query: Akbar and Birbal\n"
     ]
    }
   ],
   "source": [
    "querysen = input(\"Enter your query: \")"
   ]
  },
  {
   "cell_type": "code",
   "execution_count": 75,
   "id": "4dc04fa5",
   "metadata": {},
   "outputs": [
    {
     "name": "stdout",
     "output_type": "stream",
     "text": [
      "['Akbar', 'and', 'Birbal']\n"
     ]
    }
   ],
   "source": [
    "from nltk.tokenize import RegexpTokenizer#tokenizing the query\n",
    "query = []\n",
    "tokenizer = RegexpTokenizer(r'\\w+')\n",
    "# Tokenize a paragraph into sentences and each sentence in to\n",
    "# words\n",
    "\n",
    "word_tokens = tokenizer.tokenize(querysen)\n",
    "query += word_tokens\n",
    "\n",
    "print(query)"
   ]
  },
  {
   "cell_type": "code",
   "execution_count": 76,
   "id": "b4c809b1",
   "metadata": {},
   "outputs": [
    {
     "name": "stdout",
     "output_type": "stream",
     "text": [
      "['Akbar', 'and', 'Birbal']\n"
     ]
    }
   ],
   "source": [
    "from collections import Counter\n",
    "\n",
    "dict= Counter(query)\n",
    "for key in query:\n",
    "    if dict[key]>1:\n",
    "        print(key)\n",
    "print(query)"
   ]
  },
  {
   "cell_type": "code",
   "execution_count": 77,
   "id": "ec947815",
   "metadata": {},
   "outputs": [
    {
     "name": "stdout",
     "output_type": "stream",
     "text": [
      "{'Akbar', 'Birbal'}\n"
     ]
    }
   ],
   "source": [
    "from nltk.corpus import stopwords\n",
    "stwords = set(stopwords.words('english'))\n",
    "\n",
    "# Using set difference to eliminate stopwords from our words\n",
    "stopfree_words = set(query) - stwords\n",
    "print(stopfree_words)"
   ]
  },
  {
   "cell_type": "code",
   "execution_count": 78,
   "id": "86fd43b4",
   "metadata": {},
   "outputs": [
    {
     "data": {
      "text/plain": [
       "['akbar', 'birbal']"
      ]
     },
     "execution_count": 78,
     "metadata": {},
     "output_type": "execute_result"
    }
   ],
   "source": [
    "from nltk.stem.porter import PorterStemmer\n",
    "stemmer = PorterStemmer()\n",
    "[stemmer.stem(token) for token in stopfree_words]\n"
   ]
  },
  {
   "cell_type": "code",
   "execution_count": 79,
   "id": "66d87efd",
   "metadata": {},
   "outputs": [
    {
     "name": "stdout",
     "output_type": "stream",
     "text": [
      "['Akbar', 'Birbal']\n"
     ]
    }
   ],
   "source": [
    "from nltk.stem import WordNetLemmatizer\n",
    "  \n",
    "lemmatizer = WordNetLemmatizer()\n",
    "lemm_words = [lemmatizer.lemmatize(x) for x in stopfree_words]\n",
    "print(lemm_words)"
   ]
  },
  {
   "cell_type": "code",
   "execution_count": 80,
   "id": "969cb4f6",
   "metadata": {},
   "outputs": [],
   "source": [
    "querywords=[]\n",
    "def query_index(tokens):\n",
    "    for i in tokens:\n",
    "        tmp=[]\n",
    "        tmp.append(i)\n",
    "        tmp.append(0)\n",
    "        num=0\n",
    "        for j in query:\n",
    "            if(i==j):\n",
    "                num+=1\n",
    "                tmp[1]=num   \n",
    "        querywords.append(tmp)\n",
    "    return querywords\n"
   ]
  },
  {
   "cell_type": "code",
   "execution_count": 81,
   "id": "39a90c10",
   "metadata": {},
   "outputs": [
    {
     "name": "stdout",
     "output_type": "stream",
     "text": [
      "[['Akbar', 1], ['and', 1], ['Birbal', 1]]\n"
     ]
    }
   ],
   "source": [
    "q= query_index(query)\n",
    "print(q)"
   ]
  },
  {
   "cell_type": "code",
   "execution_count": 82,
   "id": "94e2c926",
   "metadata": {},
   "outputs": [
    {
     "name": "stdout",
     "output_type": "stream",
     "text": [
      "[['Akbar', 1.0], ['and', 1.0], ['Birbal', 1.0]]\n"
     ]
    }
   ],
   "source": [
    "def get_tfwt(querywords):\n",
    "    mag=0\n",
    "    for term in querywords:\n",
    "        term[1]= 1+math.log(term[1],10)\n",
    "    return querywords\n",
    "\n",
    "querytf= get_tfwt(q)\n",
    "print(querytf)"
   ]
  },
  {
   "cell_type": "code",
   "execution_count": 83,
   "id": "f2cc2dae",
   "metadata": {},
   "outputs": [],
   "source": [
    "def get_df(querywords):\n",
    "    for i in querywords:\n",
    "        x=querywords.index(i)\n",
    "        #print(x)\n",
    "        querywords[x].append(len(index1[i[0]]))\n",
    "    return querywords"
   ]
  },
  {
   "cell_type": "code",
   "execution_count": 84,
   "id": "e7ba8810",
   "metadata": {},
   "outputs": [
    {
     "name": "stdout",
     "output_type": "stream",
     "text": [
      "[['Akbar', 1.0, 8], ['and', 1.0, 9], ['Birbal', 1.0, 10]]\n"
     ]
    }
   ],
   "source": [
    "withdf= get_df(querywords)\n",
    "print(withdf)"
   ]
  },
  {
   "cell_type": "code",
   "execution_count": 85,
   "id": "e583f9ba",
   "metadata": {},
   "outputs": [],
   "source": [
    "def idf_cal(querywords):\n",
    "    idflist=[]\n",
    "    total=len(corpusfin)\n",
    "    for i in querywords:\n",
    "        x=querywords.index(i)\n",
    "        if(querywords[x][2]!=0):\n",
    "            querywords[x][2]=total/querywords[x][2]\n",
    "            print(querywords[x][2])\n",
    "            querywords[x][2]= math.log(querywords[x][2],10)\n",
    "            idflist.append(querywords[x][2])\n",
    "        else:\n",
    "            idflist.append(0)\n",
    "    return idflist\n"
   ]
  },
  {
   "cell_type": "code",
   "execution_count": 86,
   "id": "ed34eb81",
   "metadata": {},
   "outputs": [
    {
     "name": "stdout",
     "output_type": "stream",
     "text": [
      "1.25\n",
      "1.1111111111111112\n",
      "1.0\n"
     ]
    }
   ],
   "source": [
    "idf= idf_cal(querywords)"
   ]
  },
  {
   "cell_type": "code",
   "execution_count": 87,
   "id": "09091d49",
   "metadata": {},
   "outputs": [
    {
     "name": "stdout",
     "output_type": "stream",
     "text": [
      "[['Akbar', 1.0, 0.0969100130080564], ['and', 1.0, 0.04575749056067514], ['Birbal', 1.0, 0.0]]\n"
     ]
    }
   ],
   "source": [
    "print(querywords)"
   ]
  },
  {
   "cell_type": "code",
   "execution_count": 88,
   "id": "14b1abea",
   "metadata": {},
   "outputs": [],
   "source": [
    "def get_wt(querywords):\n",
    "    wtlist=[]\n",
    "    for i in querywords:\n",
    "        x=querywords.index(i)\n",
    "        wt=querywords[x][1]*querywords[x][2]\n",
    "        wtlist.append(wt)\n",
    "        querywords[x].append(wt)\n",
    "    return wtlist\n",
    "        \n",
    "        "
   ]
  },
  {
   "cell_type": "code",
   "execution_count": 89,
   "id": "41533113",
   "metadata": {},
   "outputs": [
    {
     "name": "stdout",
     "output_type": "stream",
     "text": [
      "[['Akbar', 1.0, 0.0969100130080564, 0.0969100130080564], ['and', 1.0, 0.04575749056067514, 0.04575749056067514], ['Birbal', 1.0, 0.0, 0.0]]\n",
      "[0.0969100130080564, 0.04575749056067514, 0.0]\n"
     ]
    }
   ],
   "source": [
    "wtlist= get_wt(querywords)\n",
    "print(querywords)\n",
    "print(wtlist)"
   ]
  },
  {
   "cell_type": "code",
   "execution_count": 90,
   "id": "3ff95123",
   "metadata": {},
   "outputs": [],
   "source": [
    "def get_finweight(querywords):\n",
    "    mag=0\n",
    "    finlist=[]\n",
    "    for i in querywords:\n",
    "        x=querywords.index(i)\n",
    "        mag=mag+(querywords[x][2]**2)\n",
    "    mag=mag**0.5\n",
    "    for i in querywords:\n",
    "        x=querywords.index(i)\n",
    "        wt=querywords[x][2]/mag\n",
    "        #querywords[x][2]= querywords[x][2]/mag\n",
    "        querywords[x].append(wt)\n",
    "        finlist.append(wt)\n",
    "    \n",
    "    return finlist"
   ]
  },
  {
   "cell_type": "code",
   "execution_count": 91,
   "id": "4e893582",
   "metadata": {},
   "outputs": [],
   "source": [
    "finlist=get_finweight(querywords)"
   ]
  },
  {
   "cell_type": "code",
   "execution_count": 92,
   "id": "72802474",
   "metadata": {},
   "outputs": [
    {
     "name": "stdout",
     "output_type": "stream",
     "text": [
      "[['Akbar', 1.0, 0.0969100130080564, 0.0969100130080564, 0.9042687179431864], ['and', 1.0, 0.04575749056067514, 0.04575749056067514, 0.42696379910876053], ['Birbal', 1.0, 0.0, 0.0, 0.0]]\n",
      "[0.9042687179431864, 0.42696379910876053, 0.0]\n"
     ]
    }
   ],
   "source": [
    "print(querywords)\n",
    "print(finlist)"
   ]
  },
  {
   "cell_type": "code",
   "execution_count": 93,
   "id": "ca7bb1cf",
   "metadata": {},
   "outputs": [
    {
     "name": "stdout",
     "output_type": "stream",
     "text": [
      "defaultdict(<function positional_index.<locals>.<lambda> at 0x00000155AE2B1CA0>, {'could': [[0, 1], [2, 1], [9, 1]], 'of': [[0, 1], [1, 2], [2, 2], [4, 2], [5, 1], [6, 1], [9, 1]], 'were': [[0, 1], [2, 1]], 'and': [[0, 3], [1, 2], [2, 4], [4, 2], [5, 2], [6, 2], [7, 2], [8, 2], [9, 3]], 'Suddenly': [[0, 1]], 'tricky': [[0, 1]], 'amusement': [[0, 1]], 'minutes': [[0, 1]], 'Birbal': [[0, 5], [1, 4], [2, 2], [3, 1], [4, 3], [5, 2], [6, 1], [7, 1], [8, 6], [9, 4]], 'him': [[0, 1]], 'question': [[0, 1]], 'eighty': [[0, 1]], 'walk': [[0, 1]], 'On': [[0, 1], [4, 1], [5, 1], [7, 1]], 'in': [[0, 4], [2, 2], [3, 1], [4, 2], [7, 2], [8, 2], [9, 1]], 'How': [[0, 1]], 'our': [[0, 2], [1, 1]], 'replied': [[0, 1], [1, 2]], 'kingdom': [[0, 2], [4, 1], [8, 2]], 'hundred': [[0, 1]], 'nine': [[0, 1]], 'testing': [[0, 1]], 'the': [[0, 3], [1, 2], [2, 3], [3, 8], [4, 7], [5, 7], [6, 9], [7, 4], [8, 3], [9, 7]], 'thousand': [[0, 1]], 'Akbar': [[0, 2], [1, 3], [2, 3], [4, 2], [5, 1], [6, 1], [8, 3], [9, 1]], 'leisurely': [[0, 1]], 'many': [[0, 1]], 'asking': [[0, 1]], 'thought': [[0, 1]], 'king': [[0, 2], [8, 1], [9, 1]], 'a': [[0, 3], [1, 1], [2, 6], [3, 1], [4, 3], [6, 4], [8, 3], [9, 5]], 's': [[0, 2], [1, 1], [4, 1], [6, 1], [7, 1], [8, 1], [9, 2]], 'within': [[0, 1]], 'crows': [[0, 2], [1, 4]], 'are': [[0, 2], [1, 1]], 'taking': [[0, 1]], 'palace': [[0, 1]], 'one': [[0, 2], [4, 1], [5, 1], [9, 1]], 'sunny': [[0, 1]], 'asked': [[0, 1], [1, 1], [4, 3], [5, 1], [7, 1]], 'fine': [[0, 1]], 'wits': [[0, 1]], 'there': [[0, 2], [1, 1]], 'gardens': [[0, 1]], 'voice': [[0, 1]], 'seventy': [[0, 1]], 'My': [[0, 1], [7, 1]], 'day': [[0, 1], [2, 1], [6, 2], [8, 1]], 'Emperor': [[0, 1]], 'few': [[0, 1]], 'by': [[0, 1], [2, 1], [3, 1]], 'sense': [[0, 1], [1, 1]], 'amazed': [[1, 1], [5, 1]], 'Surprised': [[1, 1]], 'with': [[1, 1], [6, 2]], 'great': [[1, 1]], 'his': [[1, 1], [2, 1], [4, 1], [5, 1], [6, 1], [7, 2], [8, 3], [9, 1]], 'lesser': [[1, 1]], 'if': [[1, 2]], 'we': [[1, 1]], 'some': [[1, 1], [6, 1]], 'then': [[1, 2]], 'tested': [[1, 1]], 'face': [[1, 1]], 'have': [[1, 1]], 'other': [[1, 2], [5, 1]], 'smiled': [[1, 1]], 'further': [[1, 1]], 'kingdoms': [[1, 2]], 'must': [[1, 2]], 'us': [[1, 1]], 'humour': [[1, 1]], 'be': [[1, 2], [9, 2]], 'visiting': [[1, 2]], 'on': [[1, 1], [2, 1]], 'wit': [[1, 1], [9, 1]], 'Oh': [[1, 1]], 'grin': [[1, 1]], 'more': [[1, 1]], 'at': [[1, 1], [5, 2], [8, 3]], 'from': [[1, 1], [4, 1], [7, 1], [9, 1]], 'Well': [[1, 1]], 'What': [[1, 2]], 'spend': [[2, 1]], 'this': [[2, 1], [7, 1], [9, 1]], 'coins': [[2, 1], [3, 1]], 'stopped': [[2, 1]], 'challenge': [[2, 1], [3, 1]], 'night': [[2, 2], [3, 1]], 'into': [[2, 1]], 'took': [[2, 2], [8, 1], [9, 1]], 'sustain': [[2, 1]], 'promised': [[2, 1]], 'lake': [[2, 2]], 'whoever': [[2, 1]], 'saying': [[2, 1]], 'immediately': [[2, 1]], 'winter': [[2, 1]], 'anyone': [[2, 1]], 'finger': [[2, 1]], 'Once': [[2, 1], [4, 1], [6, 1], [8, 1]], 'don': [[2, 1]], 'find': [[2, 1], [4, 1], [5, 2], [8, 1]], 'someone': [[2, 1]], 'who': [[2, 1], [3, 1], [6, 1]], 'to': [[2, 1], [3, 2], [4, 3], [5, 3], [6, 7], [8, 4], [9, 7]], 'standing': [[2, 1], [3, 1]], 'think': [[2, 1]], 'I': [[2, 1]], 'walking': [[2, 1]], 'freezing': [[2, 1], [3, 1]], 'as': [[2, 1], [4, 1], [7, 1]], 'said': [[2, 1], [6, 1], [7, 1]], 'would': [[2, 1]], 'can': [[2, 2]], 'he': [[2, 1], [4, 1], [6, 2], [7, 2], [8, 1], [9, 3]], 't': [[2, 1]], 'gold': [[2, 1], [3, 1]], 'sum': [[2, 1]], 'put': [[2, 1], [9, 1]], 'cold': [[2, 3]], 'do': [[2, 1], [6, 1]], 'it': [[2, 2], [4, 1], [7, 2], [9, 2]], 'that': [[2, 2], [4, 1], [6, 1], [7, 1], [8, 1], [9, 3]], 'water': [[2, 3], [3, 1], [6, 2], [7, 3]], 'out': [[2, 1]], '1000': [[2, 1], [3, 1]], 'two': [[3, 1]], 'reward': [[3, 1]], 'Guarded': [[3, 1]], 'agreed': [[3, 1]], 'court': [[3, 1], [4, 1], [6, 2], [9, 1]], 'for': [[3, 2], [4, 1], [7, 2], [8, 1]], 'entire': [[3, 1]], 'man': [[3, 3], [6, 3], [7, 2]], 'morning': [[3, 1]], 'undertake': [[3, 1]], 'guards': [[3, 1], [5, 1], [8, 2]], 'found': [[3, 1]], 'royal': [[3, 1], [8, 1]], 'spent': [[3, 1], [8, 1]], 'was': [[3, 1], [4, 2], [5, 2], [6, 2], [9, 2]], 'poor': [[3, 3]], 'taken': [[3, 1]], 'In': [[3, 1]], 'Soon': [[3, 1]], 'King': [[4, 1], [8, 1], [9, 1]], 'time': [[4, 1], [6, 1], [8, 2], [9, 1]], 'all': [[4, 1], [8, 2]], 'merchant': [[4, 5]], 'them': [[4, 1], [5, 1]], 'straight': [[4, 1]], 'robber': [[4, 1]], 'denied': [[4, 1]], 'stricken': [[4, 1]], 'getting': [[4, 1]], 'doing': [[4, 1]], 'robbery': [[4, 1]], 'expected': [[4, 1]], 'everyone': [[4, 1]], 'line': [[4, 1]], 'help': [[4, 2], [9, 1]], 'summoned': [[4, 1]], 'upon': [[4, 1], [6, 1], [8, 1]], 'grief': [[4, 1]], 'hint': [[4, 1]], 'servants': [[4, 2]], 'The': [[4, 2], [6, 3], [7, 2], [8, 1], [9, 1]], 'about': [[4, 1]], 'robbed': [[4, 1]], 'told': [[4, 2], [6, 1], [8, 1], [9, 1]], 'suspicious': [[4, 1]], 'When': [[4, 1]], 'rich': [[4, 1]], 'went': [[4, 1], [6, 2], [8, 1], [9, 1]], 'stand': [[4, 1]], 'each': [[5, 1]], 'straw': [[5, 1]], 'called': [[5, 1], [6, 1]], 'touching': [[5, 1]], 'Everyone': [[5, 1]], 'ring': [[5, 2]], 'search': [[5, 1]], 'courtiers': [[5, 1]], 'beard': [[5, 1]], 'managed': [[5, 1]], 'retrieved': [[5, 1]], 'suspect': [[5, 2]], 'how': [[5, 1], [9, 1]], 'searching': [[5, 1]], 'looking': [[5, 1]], 'started': [[5, 2], [8, 1]], 'following': [[6, 1]], 'not': [[6, 2], [7, 1]], 'know': [[6, 1]], 'did': [[6, 1]], 'care': [[6, 1]], 'its': [[6, 1], [9, 1]], 'well': [[6, 4], [7, 3]], 'clever': [[6, 1], [7, 1]], 'only': [[6, 1], [9, 1]], 'what': [[6, 1]], 'along': [[6, 1]], 'heart': [[6, 1]], 'fetch': [[6, 1]], 'take': [[6, 1]], 'case': [[6, 1], [7, 1]], 'farmer': [[6, 4], [7, 1], [8, 1]], 'sold': [[6, 3], [7, 1]], 'next': [[6, 1]], 'when': [[6, 1]], 'sad': [[6, 1]], 'felt': [[7, 1]], 'tax': [[7, 1]], 'learning': [[7, 1]], 'pay': [[7, 1]], 'helpless': [[7, 1]], 'mistake': [[7, 1]], 'realised': [[7, 1]], 'made': [[7, 1]], 'is': [[7, 1]], 'outwitted': [[7, 1]], 'either': [[7, 1]], 'remove': [[7, 1]], 'friend': [[7, 1]], 'same': [[7, 1]], 'statement': [[7, 1]], 'had': [[7, 1]], 'your': [[7, 2]], 'you': [[7, 1]], 'because': [[7, 1]], 'or': [[7, 1]], 'forgiveness': [[7, 1]], 'across': [[8, 1]], 'looked': [[8, 1]], 'house': [[8, 1]], 'left': [[8, 1]], 'nearby': [[8, 1]], 'days': [[8, 1]], 'their': [[8, 1]], 'decided': [[8, 1]], 'village': [[8, 1]], 'passed': [[8, 1]], 'farm': [[8, 1]], 'efforts': [[8, 1]], 'Heartbroken': [[8, 1]], 'refuge': [[8, 1]], 'go': [[8, 1]], 'got': [[8, 1]], 'so': [[8, 1]], 'directions': [[8, 1]], 'working': [[8, 1]], 'mad': [[8, 1]], 'send': [[8, 1]], 'away': [[8, 1]], 'leave': [[8, 1]], 'favourite': [[8, 1]], 'waste': [[8, 1]], 'courtier': [[8, 1]], 'As': [[8, 1]], 'missing': [[8, 1]], 'One': [[8, 1]], 'but': [[8, 1], [9, 1]], 'breaking': [[9, 1]], 'small': [[9, 1]], 'solve': [[9, 1]], 'villagers': [[9, 1]], 'pot': [[9, 4]], 'sent': [[9, 1]], 'back': [[9, 1]], 'mystery': [[9, 1]], 'bring': [[9, 1]], 'without': [[9, 2]], 'decide': [[9, 1]], 'knew': [[9, 1]], 'no': [[9, 1]], 'stating': [[9, 1]], 'This': [[9, 1]], 'removed': [[9, 1]], 'up': [[9, 1]], 'meeting': [[9, 1]], 'offered': [[9, 1]], 'needs': [[9, 1]], 'After': [[9, 1]], 'should': [[9, 1]], 'cutting': [[9, 1]], 'held': [[9, 1]], 'grew': [[9, 1]], 'else': [[9, 1]], 'watermelon': [[9, 2]], 'month': [[9, 2]], 'size': [[9, 1]], 'vines': [[9, 1]]})\n"
     ]
    }
   ],
   "source": [
    "doc=  positional_index(corpus_words)\n",
    "print(doc)\n",
    "#prints positional index dict\n"
   ]
  },
  {
   "cell_type": "code",
   "execution_count": 94,
   "id": "4171a8f5",
   "metadata": {},
   "outputs": [],
   "source": [
    "#function to get one document and word frequency in that only\n",
    "def getfreq(x):\n",
    "    docwords=[]\n",
    "    for i, j in zip(doc.values(), doc.keys()):\n",
    "        for ele in i:\n",
    "            if(ele[0]==x):\n",
    "                terms=[]\n",
    "                terms.append(j)\n",
    "                terms.append(ele[1])\n",
    "                docwords.append(terms)\n",
    "    return docwords\n",
    "    "
   ]
  },
  {
   "cell_type": "code",
   "execution_count": 95,
   "id": "e98501af",
   "metadata": {},
   "outputs": [
    {
     "name": "stdout",
     "output_type": "stream",
     "text": [
      "[['of', 2], ['and', 2], ['Birbal', 4], ['our', 1], ['replied', 2], ['the', 2], ['Akbar', 3], ['a', 1], ['s', 1], ['crows', 4], ['are', 1], ['asked', 1], ['there', 1], ['sense', 1], ['amazed', 1], ['Surprised', 1], ['with', 1], ['great', 1], ['his', 1], ['lesser', 1], ['if', 2], ['we', 1], ['some', 1], ['then', 2], ['tested', 1], ['face', 1], ['have', 1], ['other', 2], ['smiled', 1], ['further', 1], ['kingdoms', 2], ['must', 2], ['us', 1], ['humour', 1], ['be', 2], ['visiting', 2], ['on', 1], ['wit', 1], ['Oh', 1], ['grin', 1], ['more', 1], ['at', 1], ['from', 1], ['Well', 1], ['What', 2]]\n"
     ]
    }
   ],
   "source": [
    "x= getfreq(1)\n",
    "print(x)"
   ]
  },
  {
   "cell_type": "code",
   "execution_count": 96,
   "id": "5adee832",
   "metadata": {},
   "outputs": [],
   "source": [
    "import math\n",
    "\n",
    "def get_weight(term_freq):\n",
    "    mag=0\n",
    "    for term in term_freq:\n",
    "        term[1]= 1+math.log(term[1],10)\n",
    "\n",
    "    return term_freq"
   ]
  },
  {
   "cell_type": "code",
   "execution_count": 97,
   "id": "1701560c",
   "metadata": {},
   "outputs": [
    {
     "name": "stdout",
     "output_type": "stream",
     "text": [
      "[['of', 1.3010299956639813], ['and', 1.3010299956639813], ['Birbal', 1.6020599913279623], ['our', 1.0], ['replied', 1.3010299956639813], ['the', 1.3010299956639813], ['Akbar', 1.4771212547196624], ['a', 1.0], ['s', 1.0], ['crows', 1.6020599913279623], ['are', 1.0], ['asked', 1.0], ['there', 1.0], ['sense', 1.0], ['amazed', 1.0], ['Surprised', 1.0], ['with', 1.0], ['great', 1.0], ['his', 1.0], ['lesser', 1.0], ['if', 1.3010299956639813], ['we', 1.0], ['some', 1.0], ['then', 1.3010299956639813], ['tested', 1.0], ['face', 1.0], ['have', 1.0], ['other', 1.3010299956639813], ['smiled', 1.0], ['further', 1.0], ['kingdoms', 1.3010299956639813], ['must', 1.3010299956639813], ['us', 1.0], ['humour', 1.0], ['be', 1.3010299956639813], ['visiting', 1.3010299956639813], ['on', 1.0], ['wit', 1.0], ['Oh', 1.0], ['grin', 1.0], ['more', 1.0], ['at', 1.0], ['from', 1.0], ['Well', 1.0], ['What', 1.3010299956639813]]\n"
     ]
    }
   ],
   "source": [
    "weights=get_weight(x)\n",
    "print(weights)"
   ]
  },
  {
   "cell_type": "code",
   "execution_count": 98,
   "id": "81f0f20d",
   "metadata": {},
   "outputs": [],
   "source": [
    "def get_normalweight(term_freq):\n",
    "    mag=0\n",
    "    for term in term_freq:\n",
    "        mag=mag+(term[1]**2)\n",
    "    mag=mag**0.5\n",
    "    for term in term_freq:\n",
    "        term[1]= term[1]/mag\n",
    "    \n",
    "    return term_freq"
   ]
  },
  {
   "cell_type": "code",
   "execution_count": 99,
   "id": "1bdcac27",
   "metadata": {},
   "outputs": [
    {
     "name": "stdout",
     "output_type": "stream",
     "text": [
      "[['of', 0.17138525059918297], ['and', 0.17138525059918297], ['Birbal', 0.21104006364475947], ['our', 0.13173043755360647], ['replied', 0.17138525059918297], ['the', 0.17138525059918297], ['Akbar', 0.1945818292039533], ['a', 0.13173043755360647], ['s', 0.13173043755360647], ['crows', 0.21104006364475947], ['are', 0.13173043755360647], ['asked', 0.13173043755360647], ['there', 0.13173043755360647], ['sense', 0.13173043755360647], ['amazed', 0.13173043755360647], ['Surprised', 0.13173043755360647], ['with', 0.13173043755360647], ['great', 0.13173043755360647], ['his', 0.13173043755360647], ['lesser', 0.13173043755360647], ['if', 0.17138525059918297], ['we', 0.13173043755360647], ['some', 0.13173043755360647], ['then', 0.17138525059918297], ['tested', 0.13173043755360647], ['face', 0.13173043755360647], ['have', 0.13173043755360647], ['other', 0.17138525059918297], ['smiled', 0.13173043755360647], ['further', 0.13173043755360647], ['kingdoms', 0.17138525059918297], ['must', 0.17138525059918297], ['us', 0.13173043755360647], ['humour', 0.13173043755360647], ['be', 0.17138525059918297], ['visiting', 0.17138525059918297], ['on', 0.13173043755360647], ['wit', 0.13173043755360647], ['Oh', 0.13173043755360647], ['grin', 0.13173043755360647], ['more', 0.13173043755360647], ['at', 0.13173043755360647], ['from', 0.13173043755360647], ['Well', 0.13173043755360647], ['What', 0.17138525059918297]]\n"
     ]
    }
   ],
   "source": [
    "finalwt= get_normalweight(weights)\n",
    "print(finalwt)"
   ]
  },
  {
   "cell_type": "code",
   "execution_count": 100,
   "id": "06de0ee3",
   "metadata": {},
   "outputs": [],
   "source": [
    "pro=[]\n",
    "\n",
    "def prod(finalwt):\n",
    "    sum=0\n",
    "    for i in querywords: \n",
    "        for j in finalwt:\n",
    "            if(i[0]==j[0]):\n",
    "                #print(i,j)\n",
    "                x=i[4]*j[1]\n",
    "                sum=sum+x\n",
    "                #print(x)\n",
    "                pro.append(x)\n",
    "\n",
    "    return sum\n",
    "\n",
    "\n",
    "                \n",
    "            \n",
    "        "
   ]
  },
  {
   "cell_type": "code",
   "execution_count": 101,
   "id": "68327dd0",
   "metadata": {},
   "outputs": [
    {
     "name": "stdout",
     "output_type": "stream",
     "text": [
      "0.2491295589363331\n"
     ]
    }
   ],
   "source": [
    "sumval= prod(finalwt)\n",
    "print(sumval)\n"
   ]
  },
  {
   "cell_type": "code",
   "execution_count": 102,
   "id": "91aef0d4",
   "metadata": {},
   "outputs": [],
   "source": [
    "scores=[]\n",
    "for i in corpus_words:\n",
    "    y=corpus_words.index(i)\n",
    "    x=getfreq(y)\n",
    "    weights=get_weight(x)\n",
    "    finalwt= get_normalweight(weights)\n",
    "    sumval= prod(finalwt)\n",
    "    scores.append(sumval)\n",
    "\n",
    "    \n"
   ]
  },
  {
   "cell_type": "code",
   "execution_count": 103,
   "id": "b25f44ae",
   "metadata": {},
   "outputs": [
    {
     "name": "stdout",
     "output_type": "stream",
     "text": [
      "[0.22374992270117766, 0.2491295589363331, 0.2385421416990827, 0.0, 0.2081245703064946, 0.22490441262836147, 0.17740991501516645, 0.07347087754686385, 0.21867843274367943, 0.16927653665305273]\n"
     ]
    }
   ],
   "source": [
    "print(scores)"
   ]
  },
  {
   "cell_type": "code",
   "execution_count": 104,
   "id": "84e396dc",
   "metadata": {},
   "outputs": [
    {
     "name": "stdout",
     "output_type": "stream",
     "text": [
      "[0.2491295589363331, 0.2385421416990827, 0.22490441262836147, 0.22374992270117766, 0.21867843274367943, 0.2081245703064946, 0.17740991501516645, 0.16927653665305273, 0.07347087754686385, 0.0]\n"
     ]
    }
   ],
   "source": [
    "newscores=scores.copy()\n",
    "\n",
    "newscores.sort(reverse=True)\n",
    "\n",
    "\n",
    "print(newscores)"
   ]
  },
  {
   "cell_type": "code",
   "execution_count": 105,
   "id": "fb19c151",
   "metadata": {},
   "outputs": [
    {
     "name": "stdout",
     "output_type": "stream",
     "text": [
      "THE RANKING IS:\n",
      "document 2\n",
      "document 3\n",
      "document 6\n",
      "document 1\n",
      "document 9\n",
      "document 5\n",
      "document 7\n",
      "document 10\n",
      "document 8\n",
      "document 4\n"
     ]
    }
   ],
   "source": [
    "print(\"THE RANKING IS:\")\n",
    "for i in newscores:\n",
    "    for j in scores:\n",
    "        if(i==j):\n",
    "            print(\"document\",scores.index(j)+1)\n",
    "            break\n",
    "    "
   ]
  },
  {
   "cell_type": "code",
   "execution_count": null,
   "id": "84c7574a",
   "metadata": {},
   "outputs": [],
   "source": []
  }
 ],
 "metadata": {
  "kernelspec": {
   "display_name": "Python 3",
   "language": "python",
   "name": "python3"
  },
  "language_info": {
   "codemirror_mode": {
    "name": "ipython",
    "version": 3
   },
   "file_extension": ".py",
   "mimetype": "text/x-python",
   "name": "python",
   "nbconvert_exporter": "python",
   "pygments_lexer": "ipython3",
   "version": "3.8.8"
  }
 },
 "nbformat": 4,
 "nbformat_minor": 5
}
